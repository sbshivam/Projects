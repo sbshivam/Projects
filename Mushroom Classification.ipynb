{
 "cells": [
  {
   "cell_type": "markdown",
   "id": "de98ecdd",
   "metadata": {
    "papermill": {
     "duration": 0.014992,
     "end_time": "2021-10-28T17:08:14.480691",
     "exception": false,
     "start_time": "2021-10-28T17:08:14.465699",
     "status": "completed"
    },
    "tags": []
   },
   "source": [
    "# Let's Begin"
   ]
  },
  {
   "cell_type": "code",
   "execution_count": 1,
   "id": "50de63f6",
   "metadata": {
    "execution": {
     "iopub.execute_input": "2021-10-28T17:08:14.510976Z",
     "iopub.status.busy": "2021-10-28T17:08:14.509858Z",
     "iopub.status.idle": "2021-10-28T17:08:15.948214Z",
     "shell.execute_reply": "2021-10-28T17:08:15.947383Z",
     "shell.execute_reply.started": "2021-10-28T16:54:52.823982Z"
    },
    "papermill": {
     "duration": 1.454705,
     "end_time": "2021-10-28T17:08:15.948382",
     "exception": false,
     "start_time": "2021-10-28T17:08:14.493677",
     "status": "completed"
    },
    "tags": []
   },
   "outputs": [],
   "source": [
    "#Import the required libraries\n",
    "\n",
    "import numpy as np\n",
    "import pandas as pd\n",
    "import matplotlib.pyplot as plt\n",
    "import seaborn as sns\n",
    "\n",
    "from sklearn.preprocessing import LabelEncoder\n",
    "\n",
    "from sklearn.preprocessing import StandardScaler\n",
    "from sklearn.model_selection import train_test_split\n",
    "\n",
    "from sklearn.linear_model import LogisticRegression\n",
    "from sklearn.svm import SVC \n",
    "from sklearn.neural_network import MLPClassifier\n"
   ]
  },
  {
   "cell_type": "code",
   "execution_count": 2,
   "id": "575dd501",
   "metadata": {
    "execution": {
     "iopub.execute_input": "2021-10-28T17:08:15.977002Z",
     "iopub.status.busy": "2021-10-28T17:08:15.975951Z",
     "iopub.status.idle": "2021-10-28T17:08:16.021486Z",
     "shell.execute_reply": "2021-10-28T17:08:16.022088Z",
     "shell.execute_reply.started": "2021-10-28T16:54:53.359207Z"
    },
    "papermill": {
     "duration": 0.06188,
     "end_time": "2021-10-28T17:08:16.022268",
     "exception": false,
     "start_time": "2021-10-28T17:08:15.960388",
     "status": "completed"
    },
    "tags": []
   },
   "outputs": [],
   "source": [
    "data = pd.read_csv(\"../input/mushroom-classification/mushrooms.csv\")"
   ]
  },
  {
   "cell_type": "code",
   "execution_count": 3,
   "id": "9c448219",
   "metadata": {
    "execution": {
     "iopub.execute_input": "2021-10-28T17:08:16.056654Z",
     "iopub.status.busy": "2021-10-28T17:08:16.051115Z",
     "iopub.status.idle": "2021-10-28T17:08:16.091950Z",
     "shell.execute_reply": "2021-10-28T17:08:16.092439Z",
     "shell.execute_reply.started": "2021-10-28T16:54:53.392143Z"
    },
    "papermill": {
     "duration": 0.057891,
     "end_time": "2021-10-28T17:08:16.092705",
     "exception": false,
     "start_time": "2021-10-28T17:08:16.034814",
     "status": "completed"
    },
    "tags": []
   },
   "outputs": [
    {
     "data": {
      "text/html": [
       "<div>\n",
       "<style scoped>\n",
       "    .dataframe tbody tr th:only-of-type {\n",
       "        vertical-align: middle;\n",
       "    }\n",
       "\n",
       "    .dataframe tbody tr th {\n",
       "        vertical-align: top;\n",
       "    }\n",
       "\n",
       "    .dataframe thead th {\n",
       "        text-align: right;\n",
       "    }\n",
       "</style>\n",
       "<table border=\"1\" class=\"dataframe\">\n",
       "  <thead>\n",
       "    <tr style=\"text-align: right;\">\n",
       "      <th></th>\n",
       "      <th>class</th>\n",
       "      <th>cap-shape</th>\n",
       "      <th>cap-surface</th>\n",
       "      <th>cap-color</th>\n",
       "      <th>bruises</th>\n",
       "      <th>odor</th>\n",
       "      <th>gill-attachment</th>\n",
       "      <th>gill-spacing</th>\n",
       "      <th>gill-size</th>\n",
       "      <th>gill-color</th>\n",
       "      <th>...</th>\n",
       "      <th>stalk-surface-below-ring</th>\n",
       "      <th>stalk-color-above-ring</th>\n",
       "      <th>stalk-color-below-ring</th>\n",
       "      <th>veil-type</th>\n",
       "      <th>veil-color</th>\n",
       "      <th>ring-number</th>\n",
       "      <th>ring-type</th>\n",
       "      <th>spore-print-color</th>\n",
       "      <th>population</th>\n",
       "      <th>habitat</th>\n",
       "    </tr>\n",
       "  </thead>\n",
       "  <tbody>\n",
       "    <tr>\n",
       "      <th>0</th>\n",
       "      <td>p</td>\n",
       "      <td>x</td>\n",
       "      <td>s</td>\n",
       "      <td>n</td>\n",
       "      <td>t</td>\n",
       "      <td>p</td>\n",
       "      <td>f</td>\n",
       "      <td>c</td>\n",
       "      <td>n</td>\n",
       "      <td>k</td>\n",
       "      <td>...</td>\n",
       "      <td>s</td>\n",
       "      <td>w</td>\n",
       "      <td>w</td>\n",
       "      <td>p</td>\n",
       "      <td>w</td>\n",
       "      <td>o</td>\n",
       "      <td>p</td>\n",
       "      <td>k</td>\n",
       "      <td>s</td>\n",
       "      <td>u</td>\n",
       "    </tr>\n",
       "    <tr>\n",
       "      <th>1</th>\n",
       "      <td>e</td>\n",
       "      <td>x</td>\n",
       "      <td>s</td>\n",
       "      <td>y</td>\n",
       "      <td>t</td>\n",
       "      <td>a</td>\n",
       "      <td>f</td>\n",
       "      <td>c</td>\n",
       "      <td>b</td>\n",
       "      <td>k</td>\n",
       "      <td>...</td>\n",
       "      <td>s</td>\n",
       "      <td>w</td>\n",
       "      <td>w</td>\n",
       "      <td>p</td>\n",
       "      <td>w</td>\n",
       "      <td>o</td>\n",
       "      <td>p</td>\n",
       "      <td>n</td>\n",
       "      <td>n</td>\n",
       "      <td>g</td>\n",
       "    </tr>\n",
       "    <tr>\n",
       "      <th>2</th>\n",
       "      <td>e</td>\n",
       "      <td>b</td>\n",
       "      <td>s</td>\n",
       "      <td>w</td>\n",
       "      <td>t</td>\n",
       "      <td>l</td>\n",
       "      <td>f</td>\n",
       "      <td>c</td>\n",
       "      <td>b</td>\n",
       "      <td>n</td>\n",
       "      <td>...</td>\n",
       "      <td>s</td>\n",
       "      <td>w</td>\n",
       "      <td>w</td>\n",
       "      <td>p</td>\n",
       "      <td>w</td>\n",
       "      <td>o</td>\n",
       "      <td>p</td>\n",
       "      <td>n</td>\n",
       "      <td>n</td>\n",
       "      <td>m</td>\n",
       "    </tr>\n",
       "    <tr>\n",
       "      <th>3</th>\n",
       "      <td>p</td>\n",
       "      <td>x</td>\n",
       "      <td>y</td>\n",
       "      <td>w</td>\n",
       "      <td>t</td>\n",
       "      <td>p</td>\n",
       "      <td>f</td>\n",
       "      <td>c</td>\n",
       "      <td>n</td>\n",
       "      <td>n</td>\n",
       "      <td>...</td>\n",
       "      <td>s</td>\n",
       "      <td>w</td>\n",
       "      <td>w</td>\n",
       "      <td>p</td>\n",
       "      <td>w</td>\n",
       "      <td>o</td>\n",
       "      <td>p</td>\n",
       "      <td>k</td>\n",
       "      <td>s</td>\n",
       "      <td>u</td>\n",
       "    </tr>\n",
       "    <tr>\n",
       "      <th>4</th>\n",
       "      <td>e</td>\n",
       "      <td>x</td>\n",
       "      <td>s</td>\n",
       "      <td>g</td>\n",
       "      <td>f</td>\n",
       "      <td>n</td>\n",
       "      <td>f</td>\n",
       "      <td>w</td>\n",
       "      <td>b</td>\n",
       "      <td>k</td>\n",
       "      <td>...</td>\n",
       "      <td>s</td>\n",
       "      <td>w</td>\n",
       "      <td>w</td>\n",
       "      <td>p</td>\n",
       "      <td>w</td>\n",
       "      <td>o</td>\n",
       "      <td>e</td>\n",
       "      <td>n</td>\n",
       "      <td>a</td>\n",
       "      <td>g</td>\n",
       "    </tr>\n",
       "    <tr>\n",
       "      <th>...</th>\n",
       "      <td>...</td>\n",
       "      <td>...</td>\n",
       "      <td>...</td>\n",
       "      <td>...</td>\n",
       "      <td>...</td>\n",
       "      <td>...</td>\n",
       "      <td>...</td>\n",
       "      <td>...</td>\n",
       "      <td>...</td>\n",
       "      <td>...</td>\n",
       "      <td>...</td>\n",
       "      <td>...</td>\n",
       "      <td>...</td>\n",
       "      <td>...</td>\n",
       "      <td>...</td>\n",
       "      <td>...</td>\n",
       "      <td>...</td>\n",
       "      <td>...</td>\n",
       "      <td>...</td>\n",
       "      <td>...</td>\n",
       "      <td>...</td>\n",
       "    </tr>\n",
       "    <tr>\n",
       "      <th>8119</th>\n",
       "      <td>e</td>\n",
       "      <td>k</td>\n",
       "      <td>s</td>\n",
       "      <td>n</td>\n",
       "      <td>f</td>\n",
       "      <td>n</td>\n",
       "      <td>a</td>\n",
       "      <td>c</td>\n",
       "      <td>b</td>\n",
       "      <td>y</td>\n",
       "      <td>...</td>\n",
       "      <td>s</td>\n",
       "      <td>o</td>\n",
       "      <td>o</td>\n",
       "      <td>p</td>\n",
       "      <td>o</td>\n",
       "      <td>o</td>\n",
       "      <td>p</td>\n",
       "      <td>b</td>\n",
       "      <td>c</td>\n",
       "      <td>l</td>\n",
       "    </tr>\n",
       "    <tr>\n",
       "      <th>8120</th>\n",
       "      <td>e</td>\n",
       "      <td>x</td>\n",
       "      <td>s</td>\n",
       "      <td>n</td>\n",
       "      <td>f</td>\n",
       "      <td>n</td>\n",
       "      <td>a</td>\n",
       "      <td>c</td>\n",
       "      <td>b</td>\n",
       "      <td>y</td>\n",
       "      <td>...</td>\n",
       "      <td>s</td>\n",
       "      <td>o</td>\n",
       "      <td>o</td>\n",
       "      <td>p</td>\n",
       "      <td>n</td>\n",
       "      <td>o</td>\n",
       "      <td>p</td>\n",
       "      <td>b</td>\n",
       "      <td>v</td>\n",
       "      <td>l</td>\n",
       "    </tr>\n",
       "    <tr>\n",
       "      <th>8121</th>\n",
       "      <td>e</td>\n",
       "      <td>f</td>\n",
       "      <td>s</td>\n",
       "      <td>n</td>\n",
       "      <td>f</td>\n",
       "      <td>n</td>\n",
       "      <td>a</td>\n",
       "      <td>c</td>\n",
       "      <td>b</td>\n",
       "      <td>n</td>\n",
       "      <td>...</td>\n",
       "      <td>s</td>\n",
       "      <td>o</td>\n",
       "      <td>o</td>\n",
       "      <td>p</td>\n",
       "      <td>o</td>\n",
       "      <td>o</td>\n",
       "      <td>p</td>\n",
       "      <td>b</td>\n",
       "      <td>c</td>\n",
       "      <td>l</td>\n",
       "    </tr>\n",
       "    <tr>\n",
       "      <th>8122</th>\n",
       "      <td>p</td>\n",
       "      <td>k</td>\n",
       "      <td>y</td>\n",
       "      <td>n</td>\n",
       "      <td>f</td>\n",
       "      <td>y</td>\n",
       "      <td>f</td>\n",
       "      <td>c</td>\n",
       "      <td>n</td>\n",
       "      <td>b</td>\n",
       "      <td>...</td>\n",
       "      <td>k</td>\n",
       "      <td>w</td>\n",
       "      <td>w</td>\n",
       "      <td>p</td>\n",
       "      <td>w</td>\n",
       "      <td>o</td>\n",
       "      <td>e</td>\n",
       "      <td>w</td>\n",
       "      <td>v</td>\n",
       "      <td>l</td>\n",
       "    </tr>\n",
       "    <tr>\n",
       "      <th>8123</th>\n",
       "      <td>e</td>\n",
       "      <td>x</td>\n",
       "      <td>s</td>\n",
       "      <td>n</td>\n",
       "      <td>f</td>\n",
       "      <td>n</td>\n",
       "      <td>a</td>\n",
       "      <td>c</td>\n",
       "      <td>b</td>\n",
       "      <td>y</td>\n",
       "      <td>...</td>\n",
       "      <td>s</td>\n",
       "      <td>o</td>\n",
       "      <td>o</td>\n",
       "      <td>p</td>\n",
       "      <td>o</td>\n",
       "      <td>o</td>\n",
       "      <td>p</td>\n",
       "      <td>o</td>\n",
       "      <td>c</td>\n",
       "      <td>l</td>\n",
       "    </tr>\n",
       "  </tbody>\n",
       "</table>\n",
       "<p>8124 rows × 23 columns</p>\n",
       "</div>"
      ],
      "text/plain": [
       "     class cap-shape cap-surface cap-color bruises odor gill-attachment  \\\n",
       "0        p         x           s         n       t    p               f   \n",
       "1        e         x           s         y       t    a               f   \n",
       "2        e         b           s         w       t    l               f   \n",
       "3        p         x           y         w       t    p               f   \n",
       "4        e         x           s         g       f    n               f   \n",
       "...    ...       ...         ...       ...     ...  ...             ...   \n",
       "8119     e         k           s         n       f    n               a   \n",
       "8120     e         x           s         n       f    n               a   \n",
       "8121     e         f           s         n       f    n               a   \n",
       "8122     p         k           y         n       f    y               f   \n",
       "8123     e         x           s         n       f    n               a   \n",
       "\n",
       "     gill-spacing gill-size gill-color  ... stalk-surface-below-ring  \\\n",
       "0               c         n          k  ...                        s   \n",
       "1               c         b          k  ...                        s   \n",
       "2               c         b          n  ...                        s   \n",
       "3               c         n          n  ...                        s   \n",
       "4               w         b          k  ...                        s   \n",
       "...           ...       ...        ...  ...                      ...   \n",
       "8119            c         b          y  ...                        s   \n",
       "8120            c         b          y  ...                        s   \n",
       "8121            c         b          n  ...                        s   \n",
       "8122            c         n          b  ...                        k   \n",
       "8123            c         b          y  ...                        s   \n",
       "\n",
       "     stalk-color-above-ring stalk-color-below-ring veil-type veil-color  \\\n",
       "0                         w                      w         p          w   \n",
       "1                         w                      w         p          w   \n",
       "2                         w                      w         p          w   \n",
       "3                         w                      w         p          w   \n",
       "4                         w                      w         p          w   \n",
       "...                     ...                    ...       ...        ...   \n",
       "8119                      o                      o         p          o   \n",
       "8120                      o                      o         p          n   \n",
       "8121                      o                      o         p          o   \n",
       "8122                      w                      w         p          w   \n",
       "8123                      o                      o         p          o   \n",
       "\n",
       "     ring-number ring-type spore-print-color population habitat  \n",
       "0              o         p                 k          s       u  \n",
       "1              o         p                 n          n       g  \n",
       "2              o         p                 n          n       m  \n",
       "3              o         p                 k          s       u  \n",
       "4              o         e                 n          a       g  \n",
       "...          ...       ...               ...        ...     ...  \n",
       "8119           o         p                 b          c       l  \n",
       "8120           o         p                 b          v       l  \n",
       "8121           o         p                 b          c       l  \n",
       "8122           o         e                 w          v       l  \n",
       "8123           o         p                 o          c       l  \n",
       "\n",
       "[8124 rows x 23 columns]"
      ]
     },
     "execution_count": 3,
     "metadata": {},
     "output_type": "execute_result"
    }
   ],
   "source": [
    "data"
   ]
  },
  {
   "cell_type": "markdown",
   "id": "cd860de8",
   "metadata": {
    "papermill": {
     "duration": 0.013614,
     "end_time": "2021-10-28T17:08:16.119331",
     "exception": false,
     "start_time": "2021-10-28T17:08:16.105717",
     "status": "completed"
    },
    "tags": []
   },
   "source": [
    "# Preprocessing"
   ]
  },
  {
   "cell_type": "code",
   "execution_count": 4,
   "id": "665529ae",
   "metadata": {
    "execution": {
     "iopub.execute_input": "2021-10-28T17:08:16.148936Z",
     "iopub.status.busy": "2021-10-28T17:08:16.147925Z",
     "iopub.status.idle": "2021-10-28T17:08:16.212085Z",
     "shell.execute_reply": "2021-10-28T17:08:16.211491Z",
     "shell.execute_reply.started": "2021-10-28T16:54:53.424382Z"
    },
    "papermill": {
     "duration": 0.080171,
     "end_time": "2021-10-28T17:08:16.212242",
     "exception": false,
     "start_time": "2021-10-28T17:08:16.132071",
     "status": "completed"
    },
    "tags": []
   },
   "outputs": [],
   "source": [
    "mappings = list()\n",
    "\n",
    "encoder = LabelEncoder()\n",
    "\n",
    "for column in range(len(data.columns)) : \n",
    "    data[data.columns[column]] = encoder.fit_transform(data[data.columns[column]])\n",
    "    mappings_dict = {index: label for index, label in enumerate (encoder.classes_)}\n",
    "    mappings.append(mappings_dict)"
   ]
  },
  {
   "cell_type": "code",
   "execution_count": 5,
   "id": "0e8cf63e",
   "metadata": {
    "execution": {
     "iopub.execute_input": "2021-10-28T17:08:16.250198Z",
     "iopub.status.busy": "2021-10-28T17:08:16.249179Z",
     "iopub.status.idle": "2021-10-28T17:08:16.253762Z",
     "shell.execute_reply": "2021-10-28T17:08:16.254307Z",
     "shell.execute_reply.started": "2021-10-28T17:07:38.148647Z"
    },
    "papermill": {
     "duration": 0.027402,
     "end_time": "2021-10-28T17:08:16.254487",
     "exception": false,
     "start_time": "2021-10-28T17:08:16.227085",
     "status": "completed"
    },
    "tags": []
   },
   "outputs": [
    {
     "data": {
      "text/plain": [
       "[{0: 'e', 1: 'p'},\n",
       " {0: 'b', 1: 'c', 2: 'f', 3: 'k', 4: 's', 5: 'x'},\n",
       " {0: 'f', 1: 'g', 2: 's', 3: 'y'},\n",
       " {0: 'b',\n",
       "  1: 'c',\n",
       "  2: 'e',\n",
       "  3: 'g',\n",
       "  4: 'n',\n",
       "  5: 'p',\n",
       "  6: 'r',\n",
       "  7: 'u',\n",
       "  8: 'w',\n",
       "  9: 'y'},\n",
       " {0: 'f', 1: 't'},\n",
       " {0: 'a', 1: 'c', 2: 'f', 3: 'l', 4: 'm', 5: 'n', 6: 'p', 7: 's', 8: 'y'},\n",
       " {0: 'a', 1: 'f'},\n",
       " {0: 'c', 1: 'w'},\n",
       " {0: 'b', 1: 'n'},\n",
       " {0: 'b',\n",
       "  1: 'e',\n",
       "  2: 'g',\n",
       "  3: 'h',\n",
       "  4: 'k',\n",
       "  5: 'n',\n",
       "  6: 'o',\n",
       "  7: 'p',\n",
       "  8: 'r',\n",
       "  9: 'u',\n",
       "  10: 'w',\n",
       "  11: 'y'},\n",
       " {0: 'e', 1: 't'},\n",
       " {0: '?', 1: 'b', 2: 'c', 3: 'e', 4: 'r'},\n",
       " {0: 'f', 1: 'k', 2: 's', 3: 'y'},\n",
       " {0: 'f', 1: 'k', 2: 's', 3: 'y'},\n",
       " {0: 'b', 1: 'c', 2: 'e', 3: 'g', 4: 'n', 5: 'o', 6: 'p', 7: 'w', 8: 'y'},\n",
       " {0: 'b', 1: 'c', 2: 'e', 3: 'g', 4: 'n', 5: 'o', 6: 'p', 7: 'w', 8: 'y'},\n",
       " {0: 'p'},\n",
       " {0: 'n', 1: 'o', 2: 'w', 3: 'y'},\n",
       " {0: 'n', 1: 'o', 2: 't'},\n",
       " {0: 'e', 1: 'f', 2: 'l', 3: 'n', 4: 'p'},\n",
       " {0: 'b', 1: 'h', 2: 'k', 3: 'n', 4: 'o', 5: 'r', 6: 'u', 7: 'w', 8: 'y'},\n",
       " {0: 'a', 1: 'c', 2: 'n', 3: 's', 4: 'v', 5: 'y'},\n",
       " {0: 'd', 1: 'g', 2: 'l', 3: 'm', 4: 'p', 5: 'u', 6: 'w'}]"
      ]
     },
     "execution_count": 5,
     "metadata": {},
     "output_type": "execute_result"
    }
   ],
   "source": [
    "mappings"
   ]
  },
  {
   "cell_type": "code",
   "execution_count": 6,
   "id": "9e435bde",
   "metadata": {
    "execution": {
     "iopub.execute_input": "2021-10-28T17:08:16.286327Z",
     "iopub.status.busy": "2021-10-28T17:08:16.285332Z",
     "iopub.status.idle": "2021-10-28T17:08:16.298672Z",
     "shell.execute_reply": "2021-10-28T17:08:16.299277Z",
     "shell.execute_reply.started": "2021-10-28T16:54:53.487023Z"
    },
    "papermill": {
     "duration": 0.03148,
     "end_time": "2021-10-28T17:08:16.299450",
     "exception": false,
     "start_time": "2021-10-28T17:08:16.267970",
     "status": "completed"
    },
    "tags": []
   },
   "outputs": [],
   "source": [
    "Y = data['class']\n",
    "X = data.drop('class', axis = 1)\n"
   ]
  },
  {
   "cell_type": "code",
   "execution_count": 7,
   "id": "30823797",
   "metadata": {
    "execution": {
     "iopub.execute_input": "2021-10-28T17:08:16.330808Z",
     "iopub.status.busy": "2021-10-28T17:08:16.330171Z",
     "iopub.status.idle": "2021-10-28T17:08:16.343889Z",
     "shell.execute_reply": "2021-10-28T17:08:16.344361Z",
     "shell.execute_reply.started": "2021-10-28T16:54:53.502817Z"
    },
    "papermill": {
     "duration": 0.029914,
     "end_time": "2021-10-28T17:08:16.344714",
     "exception": false,
     "start_time": "2021-10-28T17:08:16.314800",
     "status": "completed"
    },
    "tags": []
   },
   "outputs": [],
   "source": [
    "scaler = StandardScaler()\n",
    "X = pd.DataFrame(scaler.fit_transform(X), columns = X.columns)"
   ]
  },
  {
   "cell_type": "code",
   "execution_count": 8,
   "id": "6ca32b80",
   "metadata": {
    "execution": {
     "iopub.execute_input": "2021-10-28T17:08:16.375344Z",
     "iopub.status.busy": "2021-10-28T17:08:16.374726Z",
     "iopub.status.idle": "2021-10-28T17:08:16.383638Z",
     "shell.execute_reply": "2021-10-28T17:08:16.384194Z",
     "shell.execute_reply.started": "2021-10-28T16:54:53.520725Z"
    },
    "papermill": {
     "duration": 0.025586,
     "end_time": "2021-10-28T17:08:16.384401",
     "exception": false,
     "start_time": "2021-10-28T17:08:16.358815",
     "status": "completed"
    },
    "tags": []
   },
   "outputs": [],
   "source": [
    "X_train, X_test, Y_train , Y_test = train_test_split(X, Y , train_size = 0.8 )"
   ]
  },
  {
   "cell_type": "markdown",
   "id": "81fbed0f",
   "metadata": {
    "papermill": {
     "duration": 0.012886,
     "end_time": "2021-10-28T17:08:16.409925",
     "exception": false,
     "start_time": "2021-10-28T17:08:16.397039",
     "status": "completed"
    },
    "tags": []
   },
   "source": [
    "# Model Selection"
   ]
  },
  {
   "cell_type": "code",
   "execution_count": 9,
   "id": "9bce6fae",
   "metadata": {
    "execution": {
     "iopub.execute_input": "2021-10-28T17:08:16.441854Z",
     "iopub.status.busy": "2021-10-28T17:08:16.441195Z",
     "iopub.status.idle": "2021-10-28T17:08:16.446917Z",
     "shell.execute_reply": "2021-10-28T17:08:16.447376Z",
     "shell.execute_reply.started": "2021-10-28T16:54:53.528462Z"
    },
    "papermill": {
     "duration": 0.021952,
     "end_time": "2021-10-28T17:08:16.447729",
     "exception": false,
     "start_time": "2021-10-28T17:08:16.425777",
     "status": "completed"
    },
    "tags": []
   },
   "outputs": [],
   "source": [
    "log_model = LogisticRegression( )\n",
    "svm_model = SVC( C = 1, kernel = 'rbf')\n",
    "nn_model = MLPClassifier(hidden_layer_sizes= (128, 128))"
   ]
  },
  {
   "cell_type": "markdown",
   "id": "c3fae156",
   "metadata": {
    "papermill": {
     "duration": 0.012309,
     "end_time": "2021-10-28T17:08:16.474064",
     "exception": false,
     "start_time": "2021-10-28T17:08:16.461755",
     "status": "completed"
    },
    "tags": []
   },
   "source": [
    "# Training"
   ]
  },
  {
   "cell_type": "code",
   "execution_count": 10,
   "id": "6685a133",
   "metadata": {
    "execution": {
     "iopub.execute_input": "2021-10-28T17:08:16.505634Z",
     "iopub.status.busy": "2021-10-28T17:08:16.504935Z",
     "iopub.status.idle": "2021-10-28T17:08:16.509966Z",
     "shell.execute_reply": "2021-10-28T17:08:16.510398Z",
     "shell.execute_reply.started": "2021-10-28T16:54:53.538485Z"
    },
    "papermill": {
     "duration": 0.02261,
     "end_time": "2021-10-28T17:08:16.510618",
     "exception": false,
     "start_time": "2021-10-28T17:08:16.488008",
     "status": "completed"
    },
    "tags": []
   },
   "outputs": [
    {
     "data": {
      "text/plain": [
       "0.48202855736090594"
      ]
     },
     "execution_count": 10,
     "metadata": {},
     "output_type": "execute_result"
    }
   ],
   "source": [
    "np.sum(Y)/len(Y)"
   ]
  },
  {
   "cell_type": "code",
   "execution_count": 11,
   "id": "02b7562b",
   "metadata": {
    "execution": {
     "iopub.execute_input": "2021-10-28T17:08:16.539872Z",
     "iopub.status.busy": "2021-10-28T17:08:16.539207Z",
     "iopub.status.idle": "2021-10-28T17:08:20.450251Z",
     "shell.execute_reply": "2021-10-28T17:08:20.451185Z",
     "shell.execute_reply.started": "2021-10-28T16:54:53.551725Z"
    },
    "papermill": {
     "duration": 3.927994,
     "end_time": "2021-10-28T17:08:20.451485",
     "exception": false,
     "start_time": "2021-10-28T17:08:16.523491",
     "status": "completed"
    },
    "tags": []
   },
   "outputs": [
    {
     "data": {
      "text/plain": [
       "MLPClassifier(hidden_layer_sizes=(128, 128))"
      ]
     },
     "execution_count": 11,
     "metadata": {},
     "output_type": "execute_result"
    }
   ],
   "source": [
    "log_model.fit(X_train , Y_train)\n",
    "svm_model.fit(X_train , Y_train)\n",
    "nn_model.fit(X_train , Y_train)"
   ]
  },
  {
   "cell_type": "code",
   "execution_count": 12,
   "id": "6819828c",
   "metadata": {
    "execution": {
     "iopub.execute_input": "2021-10-28T17:08:20.516035Z",
     "iopub.status.busy": "2021-10-28T17:08:20.514829Z",
     "iopub.status.idle": "2021-10-28T17:08:20.598260Z",
     "shell.execute_reply": "2021-10-28T17:08:20.599145Z",
     "shell.execute_reply.started": "2021-10-28T16:54:57.060855Z"
    },
    "papermill": {
     "duration": 0.120064,
     "end_time": "2021-10-28T17:08:20.599435",
     "exception": false,
     "start_time": "2021-10-28T17:08:20.479371",
     "status": "completed"
    },
    "tags": []
   },
   "outputs": [
    {
     "name": "stdout",
     "output_type": "stream",
     "text": [
      "--- Logistic Regression: 0.9587692307692308\n",
      "Support Vector Machine : 1.0\n",
      "--------Neural Network : 1.0\n"
     ]
    }
   ],
   "source": [
    "print(f\"--- Logistic Regression: {log_model.score(X_test,Y_test)}\")\n",
    "print(f\"Support Vector Machine : {svm_model.score(X_test,Y_test)}\")\n",
    "print(f\"--------Neural Network : {nn_model.score(X_test,Y_test)}\")"
   ]
  },
  {
   "cell_type": "code",
   "execution_count": 13,
   "id": "880d2bf5",
   "metadata": {
    "execution": {
     "iopub.execute_input": "2021-10-28T17:08:20.660133Z",
     "iopub.status.busy": "2021-10-28T17:08:20.659053Z",
     "iopub.status.idle": "2021-10-28T17:08:20.663172Z",
     "shell.execute_reply": "2021-10-28T17:08:20.664018Z",
     "shell.execute_reply.started": "2021-10-28T16:54:57.143351Z"
    },
    "papermill": {
     "duration": 0.03824,
     "end_time": "2021-10-28T17:08:20.664293",
     "exception": false,
     "start_time": "2021-10-28T17:08:20.626053",
     "status": "completed"
    },
    "tags": []
   },
   "outputs": [
    {
     "data": {
      "text/plain": [
       "(1625, 22)"
      ]
     },
     "execution_count": 13,
     "metadata": {},
     "output_type": "execute_result"
    }
   ],
   "source": [
    "X_test.shape"
   ]
  },
  {
   "cell_type": "markdown",
   "id": "5ab3b054",
   "metadata": {
    "papermill": {
     "duration": 0.023653,
     "end_time": "2021-10-28T17:08:20.714740",
     "exception": false,
     "start_time": "2021-10-28T17:08:20.691087",
     "status": "completed"
    },
    "tags": []
   },
   "source": [
    "# Visualization"
   ]
  },
  {
   "cell_type": "code",
   "execution_count": 14,
   "id": "27dfe682",
   "metadata": {
    "execution": {
     "iopub.execute_input": "2021-10-28T17:08:20.751996Z",
     "iopub.status.busy": "2021-10-28T17:08:20.751349Z",
     "iopub.status.idle": "2021-10-28T17:08:21.324084Z",
     "shell.execute_reply": "2021-10-28T17:08:21.323483Z",
     "shell.execute_reply.started": "2021-10-28T16:54:57.153046Z"
    },
    "papermill": {
     "duration": 0.594815,
     "end_time": "2021-10-28T17:08:21.324352",
     "exception": false,
     "start_time": "2021-10-28T17:08:20.729537",
     "status": "completed"
    },
    "tags": []
   },
   "outputs": [
    {
     "data": {
      "text/plain": [
       "<AxesSubplot:>"
      ]
     },
     "execution_count": 14,
     "metadata": {},
     "output_type": "execute_result"
    },
    {
     "data": {
      "image/png": "[encoded data removed]",
      "text/plain": [
       "<Figure size 432x288 with 2 Axes>"
      ]
     },
     "metadata": {
      "needs_background": "light"
     },
     "output_type": "display_data"
    }
   ],
   "source": [
    "corr = data.corr()\n",
    "\n",
    "sns.heatmap(corr)"
   ]
  },
  {
   "cell_type": "markdown",
   "id": "dddced0e",
   "metadata": {
    "papermill": {
     "duration": 0.014858,
     "end_time": "2021-10-28T17:08:21.355807",
     "exception": false,
     "start_time": "2021-10-28T17:08:21.340949",
     "status": "completed"
    },
    "tags": []
   },
   "source": [
    "# Result \n",
    "**Astounding results, 100% accuracy with Support Vector Machine and Neural Network.**"
   ]
  }
 ],
 "metadata": {
  "kernelspec": {
   "display_name": "Python 3",
   "language": "python",
   "name": "python3"
  },
  "language_info": {
   "codemirror_mode": {
    "name": "ipython",
    "version": 3
   },
   "file_extension": ".py",
   "mimetype": "text/x-python",
   "name": "python",
   "nbconvert_exporter": "python",
   "pygments_lexer": "ipython3",
   "version": "3.7.10"
  },
  "papermill": {
   "default_parameters": {},
   "duration": 17.82909,
   "end_time": "2021-10-28T17:08:22.082451",
   "environment_variables": {},
   "exception": null,
   "input_path": "__notebook__.ipynb",
   "output_path": "__notebook__.ipynb",
   "parameters": {},
   "start_time": "2021-10-28T17:08:04.253361",
   "version": "2.3.3"
  }
 },
 "nbformat": 4,
 "nbformat_minor": 5
}
